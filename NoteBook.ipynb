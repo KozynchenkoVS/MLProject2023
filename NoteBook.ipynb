{
 "cells": [
  {
   "attachments": {},
   "cell_type": "markdown",
   "metadata": {},
   "source": [
    "##### Import libraries"
   ]
  },
  {
   "cell_type": "code",
   "execution_count": 48,
   "metadata": {},
   "outputs": [],
   "source": [
    "# operations with data\n",
    "import pandas as pd\n",
    "from sklearn.model_selection import train_test_split\n",
    "# models\n",
    "from sklearn.neighbors import KNeighborsClassifier\n",
    "from sklearn.svm import SVC\n",
    "from sklearn.tree import DecisionTreeClassifier\n",
    "# ensembles\n",
    "from sklearn.ensemble import BaggingClassifier\n",
    "from sklearn.ensemble import AdaBoostClassifier\n",
    "# metrics\n",
    "from sklearn.metrics import f1_score\n",
    "from sklearn.metrics import accuracy_score\n",
    "# visualization\n",
    "import seaborn as sns\n",
    "import matplotlib.pyplot as plt\n",
    "# preprocessing\n",
    "import numpy as np\n",
    "# scaling\n",
    "from sklearn.preprocessing import StandardScaler"
   ]
  },
  {
   "attachments": {},
   "cell_type": "markdown",
   "metadata": {},
   "source": [
    "#### Loading dataset"
   ]
  },
  {
   "cell_type": "code",
   "execution_count": 9,
   "metadata": {},
   "outputs": [
    {
     "data": {
      "text/plain": [
       "(55692, 27)"
      ]
     },
     "execution_count": 9,
     "metadata": {},
     "output_type": "execute_result"
    }
   ],
   "source": [
    "dataset = pd.read_csv('smoking.csv')\n",
    "dataset.shape"
   ]
  },
  {
   "attachments": {},
   "cell_type": "markdown",
   "metadata": {},
   "source": [
    "#### Preprocessing"
   ]
  },
  {
   "cell_type": "code",
   "execution_count": 10,
   "metadata": {},
   "outputs": [
    {
     "name": "stdout",
     "output_type": "stream",
     "text": [
      "<class 'pandas.core.frame.DataFrame'>\n",
      "RangeIndex: 55692 entries, 0 to 55691\n",
      "Data columns (total 27 columns):\n",
      " #   Column               Non-Null Count  Dtype  \n",
      "---  ------               --------------  -----  \n",
      " 0   ID                   55692 non-null  int64  \n",
      " 1   gender               55692 non-null  object \n",
      " 2   age                  55692 non-null  int64  \n",
      " 3   height(cm)           55692 non-null  int64  \n",
      " 4   weight(kg)           55692 non-null  int64  \n",
      " 5   waist(cm)            55692 non-null  float64\n",
      " 6   eyesight(left)       55692 non-null  float64\n",
      " 7   eyesight(right)      55692 non-null  float64\n",
      " 8   hearing(left)        55692 non-null  float64\n",
      " 9   hearing(right)       55692 non-null  float64\n",
      " 10  systolic             55692 non-null  float64\n",
      " 11  relaxation           55692 non-null  float64\n",
      " 12  fasting blood sugar  55692 non-null  float64\n",
      " 13  Cholesterol          55692 non-null  float64\n",
      " 14  triglyceride         55692 non-null  float64\n",
      " 15  HDL                  55692 non-null  float64\n",
      " 16  LDL                  55692 non-null  float64\n",
      " 17  hemoglobin           55692 non-null  float64\n",
      " 18  Urine protein        55692 non-null  float64\n",
      " 19  serum creatinine     55692 non-null  float64\n",
      " 20  AST                  55692 non-null  float64\n",
      " 21  ALT                  55692 non-null  float64\n",
      " 22  Gtp                  55692 non-null  float64\n",
      " 23  oral                 55692 non-null  object \n",
      " 24  dental caries        55692 non-null  int64  \n",
      " 25  tartar               55692 non-null  object \n",
      " 26  smoking              55692 non-null  int64  \n",
      "dtypes: float64(18), int64(6), object(3)\n",
      "memory usage: 11.5+ MB\n"
     ]
    }
   ],
   "source": [
    "dataset.info()"
   ]
  },
  {
   "cell_type": "code",
   "execution_count": 16,
   "metadata": {},
   "outputs": [
    {
     "data": {
      "text/html": [
       "<div>\n",
       "<style scoped>\n",
       "    .dataframe tbody tr th:only-of-type {\n",
       "        vertical-align: middle;\n",
       "    }\n",
       "\n",
       "    .dataframe tbody tr th {\n",
       "        vertical-align: top;\n",
       "    }\n",
       "\n",
       "    .dataframe thead th {\n",
       "        text-align: right;\n",
       "    }\n",
       "</style>\n",
       "<table border=\"1\" class=\"dataframe\">\n",
       "  <thead>\n",
       "    <tr style=\"text-align: right;\">\n",
       "      <th></th>\n",
       "      <th>ID</th>\n",
       "      <th>gender</th>\n",
       "      <th>age</th>\n",
       "      <th>height(cm)</th>\n",
       "      <th>weight(kg)</th>\n",
       "      <th>waist(cm)</th>\n",
       "      <th>eyesight(left)</th>\n",
       "      <th>eyesight(right)</th>\n",
       "      <th>hearing(left)</th>\n",
       "      <th>hearing(right)</th>\n",
       "      <th>...</th>\n",
       "      <th>hemoglobin</th>\n",
       "      <th>Urine protein</th>\n",
       "      <th>serum creatinine</th>\n",
       "      <th>AST</th>\n",
       "      <th>ALT</th>\n",
       "      <th>Gtp</th>\n",
       "      <th>oral</th>\n",
       "      <th>dental caries</th>\n",
       "      <th>tartar</th>\n",
       "      <th>smoking</th>\n",
       "    </tr>\n",
       "  </thead>\n",
       "  <tbody>\n",
       "    <tr>\n",
       "      <th>0</th>\n",
       "      <td>0</td>\n",
       "      <td>F</td>\n",
       "      <td>40</td>\n",
       "      <td>155</td>\n",
       "      <td>60</td>\n",
       "      <td>81.3</td>\n",
       "      <td>1.2</td>\n",
       "      <td>1.0</td>\n",
       "      <td>1.0</td>\n",
       "      <td>1.0</td>\n",
       "      <td>...</td>\n",
       "      <td>12.9</td>\n",
       "      <td>1.0</td>\n",
       "      <td>0.7</td>\n",
       "      <td>18.0</td>\n",
       "      <td>19.0</td>\n",
       "      <td>27.0</td>\n",
       "      <td>Y</td>\n",
       "      <td>0</td>\n",
       "      <td>Y</td>\n",
       "      <td>0</td>\n",
       "    </tr>\n",
       "    <tr>\n",
       "      <th>1</th>\n",
       "      <td>1</td>\n",
       "      <td>F</td>\n",
       "      <td>40</td>\n",
       "      <td>160</td>\n",
       "      <td>60</td>\n",
       "      <td>81.0</td>\n",
       "      <td>0.8</td>\n",
       "      <td>0.6</td>\n",
       "      <td>1.0</td>\n",
       "      <td>1.0</td>\n",
       "      <td>...</td>\n",
       "      <td>12.7</td>\n",
       "      <td>1.0</td>\n",
       "      <td>0.6</td>\n",
       "      <td>22.0</td>\n",
       "      <td>19.0</td>\n",
       "      <td>18.0</td>\n",
       "      <td>Y</td>\n",
       "      <td>0</td>\n",
       "      <td>Y</td>\n",
       "      <td>0</td>\n",
       "    </tr>\n",
       "    <tr>\n",
       "      <th>2</th>\n",
       "      <td>2</td>\n",
       "      <td>M</td>\n",
       "      <td>55</td>\n",
       "      <td>170</td>\n",
       "      <td>60</td>\n",
       "      <td>80.0</td>\n",
       "      <td>0.8</td>\n",
       "      <td>0.8</td>\n",
       "      <td>1.0</td>\n",
       "      <td>1.0</td>\n",
       "      <td>...</td>\n",
       "      <td>15.8</td>\n",
       "      <td>1.0</td>\n",
       "      <td>1.0</td>\n",
       "      <td>21.0</td>\n",
       "      <td>16.0</td>\n",
       "      <td>22.0</td>\n",
       "      <td>Y</td>\n",
       "      <td>0</td>\n",
       "      <td>N</td>\n",
       "      <td>1</td>\n",
       "    </tr>\n",
       "    <tr>\n",
       "      <th>3</th>\n",
       "      <td>3</td>\n",
       "      <td>M</td>\n",
       "      <td>40</td>\n",
       "      <td>165</td>\n",
       "      <td>70</td>\n",
       "      <td>88.0</td>\n",
       "      <td>1.5</td>\n",
       "      <td>1.5</td>\n",
       "      <td>1.0</td>\n",
       "      <td>1.0</td>\n",
       "      <td>...</td>\n",
       "      <td>14.7</td>\n",
       "      <td>1.0</td>\n",
       "      <td>1.0</td>\n",
       "      <td>19.0</td>\n",
       "      <td>26.0</td>\n",
       "      <td>18.0</td>\n",
       "      <td>Y</td>\n",
       "      <td>0</td>\n",
       "      <td>Y</td>\n",
       "      <td>0</td>\n",
       "    </tr>\n",
       "    <tr>\n",
       "      <th>4</th>\n",
       "      <td>4</td>\n",
       "      <td>F</td>\n",
       "      <td>40</td>\n",
       "      <td>155</td>\n",
       "      <td>60</td>\n",
       "      <td>86.0</td>\n",
       "      <td>1.0</td>\n",
       "      <td>1.0</td>\n",
       "      <td>1.0</td>\n",
       "      <td>1.0</td>\n",
       "      <td>...</td>\n",
       "      <td>12.5</td>\n",
       "      <td>1.0</td>\n",
       "      <td>0.6</td>\n",
       "      <td>16.0</td>\n",
       "      <td>14.0</td>\n",
       "      <td>22.0</td>\n",
       "      <td>Y</td>\n",
       "      <td>0</td>\n",
       "      <td>N</td>\n",
       "      <td>0</td>\n",
       "    </tr>\n",
       "  </tbody>\n",
       "</table>\n",
       "<p>5 rows × 27 columns</p>\n",
       "</div>"
      ],
      "text/plain": [
       "   ID gender  age  height(cm)  weight(kg)  waist(cm)  eyesight(left)  \\\n",
       "0   0      F   40         155          60       81.3             1.2   \n",
       "1   1      F   40         160          60       81.0             0.8   \n",
       "2   2      M   55         170          60       80.0             0.8   \n",
       "3   3      M   40         165          70       88.0             1.5   \n",
       "4   4      F   40         155          60       86.0             1.0   \n",
       "\n",
       "   eyesight(right)  hearing(left)  hearing(right)  ...  hemoglobin  \\\n",
       "0              1.0            1.0             1.0  ...        12.9   \n",
       "1              0.6            1.0             1.0  ...        12.7   \n",
       "2              0.8            1.0             1.0  ...        15.8   \n",
       "3              1.5            1.0             1.0  ...        14.7   \n",
       "4              1.0            1.0             1.0  ...        12.5   \n",
       "\n",
       "   Urine protein  serum creatinine   AST   ALT   Gtp  oral  dental caries  \\\n",
       "0            1.0               0.7  18.0  19.0  27.0     Y              0   \n",
       "1            1.0               0.6  22.0  19.0  18.0     Y              0   \n",
       "2            1.0               1.0  21.0  16.0  22.0     Y              0   \n",
       "3            1.0               1.0  19.0  26.0  18.0     Y              0   \n",
       "4            1.0               0.6  16.0  14.0  22.0     Y              0   \n",
       "\n",
       "   tartar  smoking  \n",
       "0       Y        0  \n",
       "1       Y        0  \n",
       "2       N        1  \n",
       "3       Y        0  \n",
       "4       N        0  \n",
       "\n",
       "[5 rows x 27 columns]"
      ]
     },
     "execution_count": 16,
     "metadata": {},
     "output_type": "execute_result"
    }
   ],
   "source": [
    "dataset.head()"
   ]
  },
  {
   "attachments": {},
   "cell_type": "markdown",
   "metadata": {},
   "source": [
    "Three columns with object data type: <i>gender, oral, tartar</i>.\n",
    "\n",
    "Six columns with int64 data type: <i>ID, age, height(cm), weight(kg), dental caries, smoking</i>."
   ]
  },
  {
   "cell_type": "code",
   "execution_count": 21,
   "metadata": {},
   "outputs": [],
   "source": [
    "#### Binary Label Encoder\n",
    "dataset['gender'] = np.where(dataset['gender'] == 'F', np.int64(1), np.int64(0))\n",
    "dataset['oral'] = np.where(dataset['oral'] == 'Y', np.int64(1), np.int64(0))\n",
    "dataset['tartar'] = np.where(dataset['tartar'] == 'Y', np.int64(1), np.int64(0))"
   ]
  },
  {
   "attachments": {},
   "cell_type": "markdown",
   "metadata": {},
   "source": [
    "Now all columns has numeric type. Splitting into X and Y (Y is a target):"
   ]
  },
  {
   "cell_type": "code",
   "execution_count": 17,
   "metadata": {},
   "outputs": [],
   "source": [
    "del dataset['ID']\n",
    "X = dataset\n",
    "#### smoking is a target column\n",
    "Y = dataset['smoking']\n",
    "del X['smoking']"
   ]
  },
  {
   "attachments": {},
   "cell_type": "markdown",
   "metadata": {},
   "source": [
    "Data normalization:"
   ]
  },
  {
   "cell_type": "code",
   "execution_count": 22,
   "metadata": {},
   "outputs": [
    {
     "data": {
      "text/html": [
       "<div>\n",
       "<style scoped>\n",
       "    .dataframe tbody tr th:only-of-type {\n",
       "        vertical-align: middle;\n",
       "    }\n",
       "\n",
       "    .dataframe tbody tr th {\n",
       "        vertical-align: top;\n",
       "    }\n",
       "\n",
       "    .dataframe thead th {\n",
       "        text-align: right;\n",
       "    }\n",
       "</style>\n",
       "<table border=\"1\" class=\"dataframe\">\n",
       "  <thead>\n",
       "    <tr style=\"text-align: right;\">\n",
       "      <th></th>\n",
       "      <th>gender</th>\n",
       "      <th>age</th>\n",
       "      <th>height(cm)</th>\n",
       "      <th>weight(kg)</th>\n",
       "      <th>waist(cm)</th>\n",
       "      <th>eyesight(left)</th>\n",
       "      <th>eyesight(right)</th>\n",
       "      <th>hearing(left)</th>\n",
       "      <th>hearing(right)</th>\n",
       "      <th>systolic</th>\n",
       "      <th>...</th>\n",
       "      <th>LDL</th>\n",
       "      <th>hemoglobin</th>\n",
       "      <th>Urine protein</th>\n",
       "      <th>serum creatinine</th>\n",
       "      <th>AST</th>\n",
       "      <th>ALT</th>\n",
       "      <th>Gtp</th>\n",
       "      <th>oral</th>\n",
       "      <th>dental caries</th>\n",
       "      <th>tartar</th>\n",
       "    </tr>\n",
       "  </thead>\n",
       "  <tbody>\n",
       "    <tr>\n",
       "      <th>0</th>\n",
       "      <td>1.320858</td>\n",
       "      <td>-0.346517</td>\n",
       "      <td>-1.049465</td>\n",
       "      <td>-0.457476</td>\n",
       "      <td>-0.080484</td>\n",
       "      <td>0.384861</td>\n",
       "      <td>-0.015315</td>\n",
       "      <td>-0.162046</td>\n",
       "      <td>-0.163846</td>\n",
       "      <td>-0.547989</td>\n",
       "      <td>...</td>\n",
       "      <td>0.269644</td>\n",
       "      <td>-1.101061</td>\n",
       "      <td>-0.215402</td>\n",
       "      <td>-0.838461</td>\n",
       "      <td>-0.422775</td>\n",
       "      <td>-0.259666</td>\n",
       "      <td>-0.257550</td>\n",
       "      <td>0.0</td>\n",
       "      <td>-0.520757</td>\n",
       "      <td>0.894427</td>\n",
       "    </tr>\n",
       "    <tr>\n",
       "      <th>1</th>\n",
       "      <td>1.320858</td>\n",
       "      <td>-0.346517</td>\n",
       "      <td>-0.505663</td>\n",
       "      <td>-0.457476</td>\n",
       "      <td>-0.112832</td>\n",
       "      <td>-0.436715</td>\n",
       "      <td>-0.838428</td>\n",
       "      <td>-0.162046</td>\n",
       "      <td>-0.163846</td>\n",
       "      <td>-0.182381</td>\n",
       "      <td>...</td>\n",
       "      <td>0.294079</td>\n",
       "      <td>-1.228898</td>\n",
       "      <td>-0.215402</td>\n",
       "      <td>-1.289883</td>\n",
       "      <td>-0.216113</td>\n",
       "      <td>-0.259666</td>\n",
       "      <td>-0.436511</td>\n",
       "      <td>0.0</td>\n",
       "      <td>-0.520757</td>\n",
       "      <td>0.894427</td>\n",
       "    </tr>\n",
       "    <tr>\n",
       "      <th>2</th>\n",
       "      <td>-0.757084</td>\n",
       "      <td>0.896099</td>\n",
       "      <td>0.581943</td>\n",
       "      <td>-0.457476</td>\n",
       "      <td>-0.220659</td>\n",
       "      <td>-0.436715</td>\n",
       "      <td>-0.426872</td>\n",
       "      <td>-0.162046</td>\n",
       "      <td>-0.163846</td>\n",
       "      <td>1.206928</td>\n",
       "      <td>...</td>\n",
       "      <td>0.880501</td>\n",
       "      <td>0.752585</td>\n",
       "      <td>-0.215402</td>\n",
       "      <td>0.515806</td>\n",
       "      <td>-0.267779</td>\n",
       "      <td>-0.356604</td>\n",
       "      <td>-0.356973</td>\n",
       "      <td>0.0</td>\n",
       "      <td>-0.520757</td>\n",
       "      <td>-1.118034</td>\n",
       "    </tr>\n",
       "    <tr>\n",
       "      <th>3</th>\n",
       "      <td>-0.757084</td>\n",
       "      <td>-0.346517</td>\n",
       "      <td>0.038140</td>\n",
       "      <td>0.322543</td>\n",
       "      <td>0.641955</td>\n",
       "      <td>1.001044</td>\n",
       "      <td>1.013576</td>\n",
       "      <td>-0.162046</td>\n",
       "      <td>-0.163846</td>\n",
       "      <td>-1.571690</td>\n",
       "      <td>...</td>\n",
       "      <td>2.713072</td>\n",
       "      <td>0.049478</td>\n",
       "      <td>-0.215402</td>\n",
       "      <td>0.515806</td>\n",
       "      <td>-0.371110</td>\n",
       "      <td>-0.033477</td>\n",
       "      <td>-0.436511</td>\n",
       "      <td>0.0</td>\n",
       "      <td>-0.520757</td>\n",
       "      <td>0.894427</td>\n",
       "    </tr>\n",
       "    <tr>\n",
       "      <th>4</th>\n",
       "      <td>1.320858</td>\n",
       "      <td>-0.346517</td>\n",
       "      <td>-1.049465</td>\n",
       "      <td>-0.457476</td>\n",
       "      <td>0.426302</td>\n",
       "      <td>-0.025927</td>\n",
       "      <td>-0.015315</td>\n",
       "      <td>-0.162046</td>\n",
       "      <td>-0.163846</td>\n",
       "      <td>-0.109259</td>\n",
       "      <td>...</td>\n",
       "      <td>-0.194607</td>\n",
       "      <td>-1.356736</td>\n",
       "      <td>-0.215402</td>\n",
       "      <td>-1.289883</td>\n",
       "      <td>-0.526106</td>\n",
       "      <td>-0.421230</td>\n",
       "      <td>-0.356973</td>\n",
       "      <td>0.0</td>\n",
       "      <td>-0.520757</td>\n",
       "      <td>-1.118034</td>\n",
       "    </tr>\n",
       "  </tbody>\n",
       "</table>\n",
       "<p>5 rows × 25 columns</p>\n",
       "</div>"
      ],
      "text/plain": [
       "     gender       age  height(cm)  weight(kg)  waist(cm)  eyesight(left)  \\\n",
       "0  1.320858 -0.346517   -1.049465   -0.457476  -0.080484        0.384861   \n",
       "1  1.320858 -0.346517   -0.505663   -0.457476  -0.112832       -0.436715   \n",
       "2 -0.757084  0.896099    0.581943   -0.457476  -0.220659       -0.436715   \n",
       "3 -0.757084 -0.346517    0.038140    0.322543   0.641955        1.001044   \n",
       "4  1.320858 -0.346517   -1.049465   -0.457476   0.426302       -0.025927   \n",
       "\n",
       "   eyesight(right)  hearing(left)  hearing(right)  systolic  ...       LDL  \\\n",
       "0        -0.015315      -0.162046       -0.163846 -0.547989  ...  0.269644   \n",
       "1        -0.838428      -0.162046       -0.163846 -0.182381  ...  0.294079   \n",
       "2        -0.426872      -0.162046       -0.163846  1.206928  ...  0.880501   \n",
       "3         1.013576      -0.162046       -0.163846 -1.571690  ...  2.713072   \n",
       "4        -0.015315      -0.162046       -0.163846 -0.109259  ... -0.194607   \n",
       "\n",
       "   hemoglobin  Urine protein  serum creatinine       AST       ALT       Gtp  \\\n",
       "0   -1.101061      -0.215402         -0.838461 -0.422775 -0.259666 -0.257550   \n",
       "1   -1.228898      -0.215402         -1.289883 -0.216113 -0.259666 -0.436511   \n",
       "2    0.752585      -0.215402          0.515806 -0.267779 -0.356604 -0.356973   \n",
       "3    0.049478      -0.215402          0.515806 -0.371110 -0.033477 -0.436511   \n",
       "4   -1.356736      -0.215402         -1.289883 -0.526106 -0.421230 -0.356973   \n",
       "\n",
       "   oral  dental caries    tartar  \n",
       "0   0.0      -0.520757  0.894427  \n",
       "1   0.0      -0.520757  0.894427  \n",
       "2   0.0      -0.520757 -1.118034  \n",
       "3   0.0      -0.520757  0.894427  \n",
       "4   0.0      -0.520757 -1.118034  \n",
       "\n",
       "[5 rows x 25 columns]"
      ]
     },
     "execution_count": 22,
     "metadata": {},
     "output_type": "execute_result"
    }
   ],
   "source": [
    "scaler = StandardScaler()\n",
    "X_temp = scaler.fit_transform(X)\n",
    "X = pd.DataFrame(X_temp, columns=X.columns)\n",
    "X.head()"
   ]
  },
  {
   "attachments": {},
   "cell_type": "markdown",
   "metadata": {},
   "source": [
    "#### Explotary Analysis"
   ]
  },
  {
   "attachments": {},
   "cell_type": "markdown",
   "metadata": {},
   "source": [
    "Корреляция признаков между собой"
   ]
  },
  {
   "cell_type": "code",
   "execution_count": 26,
   "metadata": {},
   "outputs": [
    {
     "data": {
      "text/plain": [
       "<AxesSubplot:>"
      ]
     },
     "execution_count": 26,
     "metadata": {},
     "output_type": "execute_result"
    },
    {
     "data": {
      "image/png": "[encoded data removed]",
      "text/plain": [
       "<Figure size 640x480 with 2 Axes>"
      ]
     },
     "metadata": {},
     "output_type": "display_data"
    }
   ],
   "source": [
    "X_correlation = X.corr()\n",
    "sns.heatmap(X_correlation)"
   ]
  },
  {
   "attachments": {},
   "cell_type": "markdown",
   "metadata": {},
   "source": [
    "Рассмотрим столбцы с корреляцией > 0.5 (нужно сообразить, как избавиться от повторений):"
   ]
  },
  {
   "cell_type": "code",
   "execution_count": 39,
   "metadata": {},
   "outputs": [],
   "source": [
    "corr_cloumns = set()\n",
    "for row_column in X_correlation:\n",
    "    for col_column in X_correlation:\n",
    "        cell_corr = X_correlation[row_column][col_column]\n",
    "        if cell_corr > 0.5 and cell_corr != 1.0:\n",
    "            comment = row_column + \" AND \" + col_column + \" has correlation = \" + str(cell_corr)\n",
    "            result = (row_column, col_column, cell_corr, comment)\n",
    "            if (col_column, row_column, cell_corr, _) not in corr_cloumns:\n",
    "                corr_cloumns.add(result)"
   ]
  },
  {
   "attachments": {},
   "cell_type": "markdown",
   "metadata": {},
   "source": [
    "Результаты корреляции"
   ]
  },
  {
   "cell_type": "code",
   "execution_count": 40,
   "metadata": {},
   "outputs": [
    {
     "name": "stdout",
     "output_type": "stream",
     "text": [
      "height(cm) AND hemoglobin has correlation = 0.5393672977419964\n",
      "LDL AND Cholesterol has correlation = 0.7389751399524231\n",
      "hearing(right) AND hearing(left) has correlation = 0.510095326294578\n",
      "waist(cm) AND weight(kg) has correlation = 0.8228420491596369\n",
      "Cholesterol AND LDL has correlation = 0.7389751399524231\n",
      "hemoglobin AND height(cm) has correlation = 0.5393672977419964\n",
      "AST AND ALT has correlation = 0.7407264895305563\n",
      "systolic AND relaxation has correlation = 0.7610510087181237\n",
      "weight(kg) AND waist(cm) has correlation = 0.8228420491596369\n",
      "ALT AND AST has correlation = 0.7407264895305563\n",
      "weight(kg) AND height(cm) has correlation = 0.6756561386523592\n",
      "height(cm) AND weight(kg) has correlation = 0.6756561386523592\n",
      "relaxation AND systolic has correlation = 0.7610510087181237\n",
      "hearing(left) AND hearing(right) has correlation = 0.510095326294578\n"
     ]
    }
   ],
   "source": [
    "for (_, _, _, comment) in corr_cloumns:\n",
    "    print(comment)"
   ]
  },
  {
   "attachments": {},
   "cell_type": "markdown",
   "metadata": {},
   "source": [
    "Высокую корреляцию между собой имеют:\n",
    "\n",
    "<ul>\n",
    "<li>height(cm) и hemoglobin</li>\n",
    "<li>LDL и Cholesterol</li>\n",
    "<li>hearing(right) и hearing(left)</li>\n",
    "<li>waist(cm) и weight(kg)</li>\n",
    "<li>AST и ALT</li>\n",
    "<li>systolic и relaxation</li>\n",
    "<li>weight(kg) и height(cm)</li>\n",
    "</ul>"
   ]
  },
  {
   "attachments": {},
   "cell_type": "markdown",
   "metadata": {},
   "source": [
    "Посмотрим на корреляцию признаков с таргетом"
   ]
  },
  {
   "cell_type": "code",
   "execution_count": 42,
   "metadata": {},
   "outputs": [
    {
     "data": {
      "text/plain": [
       "<AxesSubplot:>"
      ]
     },
     "execution_count": 42,
     "metadata": {},
     "output_type": "execute_result"
    },
    {
     "data": {
      "image/png": "[encoded data removed]",
      "text/plain": [
       "<Figure size 640x480 with 2 Axes>"
      ]
     },
     "metadata": {},
     "output_type": "display_data"
    }
   ],
   "source": [
    "#### добавляем таргетный столбец к остальным\n",
    "data = X.copy()\n",
    "data['target'] = Y.copy()\n",
    "X_temp = scaler.fit_transform(data)\n",
    "data = pd.DataFrame(X_temp, columns=data.columns)\n",
    "\n",
    "#### строим heatmap\n",
    "data_correlation = data.corr()\n",
    "sns.heatmap(data_correlation)"
   ]
  },
  {
   "cell_type": "code",
   "execution_count": 66,
   "metadata": {},
   "outputs": [],
   "source": [
    "corr_cloumns = set()\n",
    "for row_column in data_correlation:\n",
    "    if cell_corr > 0.4 and cell_corr != 1.0:\n",
    "        comment = row_column + \" AND \" + data['target'] + \" has correlation = \" + str(cell_corr)\n",
    "        result = (row_column, data['target'], cell_corr, comment)\n",
    "        if row_column != data['target']:\n",
    "            corr_cloumns.add(result)\n",
    "\n",
    "for (_, _, _, comment) in corr_cloumns:\n",
    "    print(comment)"
   ]
  },
  {
   "attachments": {},
   "cell_type": "markdown",
   "metadata": {},
   "source": [
    "С таргетным признаком корреляции > 0.4 нет"
   ]
  },
  {
   "attachments": {},
   "cell_type": "markdown",
   "metadata": {},
   "source": [
    "Работа с выбросами\n",
    "\n",
    "Найдем квартили для каждого столбца в X"
   ]
  },
  {
   "cell_type": "code",
   "execution_count": 57,
   "metadata": {},
   "outputs": [],
   "source": [
    "result_percentile = dict()\n",
    "for column in X.columns:\n",
    "    row_result = np.percentile(X[column], [25, 50, 75])\n",
    "    result_percentile[column] = row_result\n",
    "\n",
    "# print(result_percentile)"
   ]
  },
  {
   "attachments": {},
   "cell_type": "markdown",
   "metadata": {},
   "source": [
    "Удалим выбросы - значения, превышающие Q75, которых при этом меньше 10 (надо выбрать, иначе уже не выбросы)"
   ]
  },
  {
   "cell_type": "code",
   "execution_count": 63,
   "metadata": {},
   "outputs": [
    {
     "name": "stdout",
     "output_type": "stream",
     "text": [
      "gender\n",
      "[]\n"
     ]
    },
    {
     "ename": "TypeError",
     "evalue": "'builtin_function_or_method' object is not subscriptable",
     "output_type": "error",
     "traceback": [
      "\u001b[1;31m---------------------------------------------------------------------------\u001b[0m",
      "\u001b[1;31mTypeError\u001b[0m                                 Traceback (most recent call last)",
      "Cell \u001b[1;32mIn [63], line 5\u001b[0m\n\u001b[0;32m      3\u001b[0m \u001b[39mfor\u001b[39;00m row \u001b[39min\u001b[39;00m X[column]:\n\u001b[0;32m      4\u001b[0m     \u001b[39mif\u001b[39;00m row \u001b[39m>\u001b[39m (result_percentile[column])[\u001b[39m2\u001b[39m]:\n\u001b[1;32m----> 5\u001b[0m         temp\u001b[39m.\u001b[39;49mappend[row]\n\u001b[0;32m      6\u001b[0m \u001b[39mif\u001b[39;00m \u001b[39mlen\u001b[39m(temp) \u001b[39m<\u001b[39m \u001b[39m10\u001b[39m:\n\u001b[0;32m      7\u001b[0m     \u001b[39mprint\u001b[39m(column)\n",
      "\u001b[1;31mTypeError\u001b[0m: 'builtin_function_or_method' object is not subscriptable"
     ]
    }
   ],
   "source": [
    "# for column in X.columns:\n",
    "#     temp = []\n",
    "#     for row in X[column]:\n",
    "#         if row > (result_percentile[column])[2]:\n",
    "#             temp.append[row]\n",
    "#     if len(temp) < 10:\n",
    "#         print(column)\n",
    "#         print(temp)"
   ]
  },
  {
   "attachments": {},
   "cell_type": "markdown",
   "metadata": {},
   "source": [
    "#### Creating new hypotheses"
   ]
  },
  {
   "attachments": {},
   "cell_type": "markdown",
   "metadata": {},
   "source": [
    "#### Hypertuning "
   ]
  },
  {
   "cell_type": "code",
   "execution_count": null,
   "metadata": {},
   "outputs": [],
   "source": [
    "#### Некоторые переменные для гипертюнинга, по идее можно что-то добавить, но это будет пиздец)))))))) Хотя почему бы и нет...\n",
    "splits = [0.2, 0.3, 0.4]\n",
    "coeffs_svc = [1, 5, 10, 15]\n",
    "knn_n = [5, 10, 15, 20, 25]\n",
    "weigths_knn = ['uniform', 'distance']\n",
    "algo_knn = ['ball_tree', 'kd_tree', 'brute', 'auto']\n",
    "p_knn = [1, 2]\n",
    "metric_knn = ['minkowski', 'euclidean']\n",
    "tree_criteria = ['gini', 'entropy']\n",
    "split_tree = ['best', 'random']\n",
    "tree_max_depth = [10, 20, 30, 40, None]\n",
    "estimator_bagging = [5, 10, 15, 20]\n",
    "\n"
   ]
  },
  {
   "cell_type": "code",
   "execution_count": null,
   "metadata": {},
   "outputs": [],
   "source": [
    "#### Тут надо подумать о том какие фичи будут участвовать в обучении моделей................\n",
    "# del dataset['ID']\n",
    "# X = dataset\n",
    "# Y = dataset['smoking']\n",
    "# del X['smoking']"
   ]
  },
  {
   "cell_type": "code",
   "execution_count": null,
   "metadata": {},
   "outputs": [],
   "source": [
    "bagging_results = []\n",
    "for i in splits:\n",
    "    for j in estimator_bagging:\n",
    "        X_train, X_test, y_train, y_test = train_test_split(X, Y, test_size=i)\n",
    "        tune_model = BaggingClassifier(n_estimators=j)\n",
    "        tune_model.fit(X_train, y_train)\n",
    "        bagging_results.append([i, j, f1_score(y_true = y_test, y_pred=tune_model.predict(X_test)), accuracy_score(y_true = y_test, y_pred=tune_model.predict(X_test))])"
   ]
  },
  {
   "cell_type": "code",
   "execution_count": null,
   "metadata": {},
   "outputs": [],
   "source": [
    "tree_results = []\n",
    "for i in splits:\n",
    "    for j in tree_criteria:\n",
    "        for k in split_tree:\n",
    "            for z in tree_max_depth:\n",
    "                X_train, X_test, y_train, y_test = train_test_split(X, Y, test_size=i)\n",
    "                tune_model = DecisionTreeClassifier(criterion=j, splitter=k, max_depth=z)\n",
    "                tune_model.fit(X_train, y_train)\n",
    "                tree_results.append([i, j, k, z, f1_score(y_true = y_test, y_pred=tune_model.predict(X_test)), accuracy_score(y_true = y_test, y_pred=tune_model.predict(X_test))])"
   ]
  },
  {
   "cell_type": "code",
   "execution_count": null,
   "metadata": {},
   "outputs": [],
   "source": [
    "knn_results = []\n",
    "for i in splits:\n",
    "    for j in knn_n:\n",
    "        for k in weigths_knn:\n",
    "            for p in algo_knn:\n",
    "                for z in p_knn:\n",
    "                    for m in metric_knn:\n",
    "                        X_train, X_test, y_train, y_test = train_test_split(X, Y, test_size=i)\n",
    "                        tune_model = KNeighborsClassifier(n_neighbors=j, weights=k, algorithm=p, p=z, metric=m)\n",
    "                        tune_model.fit(X_train, y_train)\n",
    "                        knn_results.append([i, j, k, p, z, m, f1_score(y_true = y_test, y_pred=tune_model.predict(X_test)), accuracy_score(y_true = y_test, y_pred=tune_model.predict(X_test))])\n",
    "        "
   ]
  },
  {
   "cell_type": "code",
   "execution_count": null,
   "metadata": {},
   "outputs": [],
   "source": [
    "svc_results = []\n",
    "for i in splits:\n",
    "    for j in coeffs_svc:\n",
    "        X_train, X_test, y_train, y_test = train_test_split(X, Y, test_size=i)\n",
    "        tune_model = SVC(C= j)\n",
    "        tune_model.fit(X_train, y_train)\n",
    "        svc_results.append([i, j, f1_score(y_true = y_test, y_pred=tune_model.predict(X_test)), accuracy_score(y_true = y_test, y_pred=tune_model.predict(X_test))])\n",
    "        "
   ]
  },
  {
   "cell_type": "code",
   "execution_count": null,
   "metadata": {},
   "outputs": [],
   "source": [
    "knn_results[-1]"
   ]
  },
  {
   "cell_type": "code",
   "execution_count": null,
   "metadata": {},
   "outputs": [],
   "source": [
    "sorted(svc_results, key=lambda x: x[2], reverse=True)[0]"
   ]
  },
  {
   "cell_type": "code",
   "execution_count": null,
   "metadata": {},
   "outputs": [],
   "source": [
    "sorted(tree_results, key=lambda x: x[4], reverse=True)[0]"
   ]
  },
  {
   "cell_type": "code",
   "execution_count": null,
   "metadata": {},
   "outputs": [],
   "source": [
    "sorted(bagging_results, key=lambda x: x[2], reverse=True)[0]"
   ]
  },
  {
   "attachments": {},
   "cell_type": "markdown",
   "metadata": {},
   "source": [
    "#### Models"
   ]
  },
  {
   "cell_type": "code",
   "execution_count": null,
   "metadata": {},
   "outputs": [],
   "source": [
    "X_train, X_test, y_train, y_test = train_test_split(X, Y, test_size=0.2)\n",
    "svc_model = SVC(C=10)\n",
    "knn_model = KNeighborsClassifier(n_neighbors=20, weights='distance', algorithm='kd_tree', p=1, metric='minkowski')\n",
    "tree_model = DecisionTreeClassifier(criterion='entropy', splitter='random', max_depth=None)\n",
    "bagging_model = BaggingClassifier(n_estimators=15)\n",
    "boost_model = AdaBoostClassifier()"
   ]
  },
  {
   "attachments": {},
   "cell_type": "markdown",
   "metadata": {},
   "source": [
    "#### Verifying hypothesis"
   ]
  },
  {
   "cell_type": "code",
   "execution_count": null,
   "metadata": {},
   "outputs": [],
   "source": [
    "X = dataset[['eyesight(left)', 'eyesight(right)', 'dental caries', 'tartar']]\n",
    "y = dataset['smoking']"
   ]
  },
  {
   "cell_type": "code",
   "execution_count": null,
   "metadata": {},
   "outputs": [],
   "source": [
    "X_train, X_test, y_train, y_test = train_test_split(X, y, test_size=0.2)\n",
    "#Здесь дальше идёт код лучшей модели, на данный момент лучшая Bagging(Adaboost не трогал, так как хз ч там трогать)\n",
    "bagging_model = BaggingClassifier(base_estimator=DecisionTreeClassifier(criterion='entropy', splitter='random', max_depth=None),n_estimators=15)\n",
    "bagging_model.fit(X_train, y_train)\n",
    "predicted_X = bagging_model.predict(X_test)\n",
    "score = f1_score(y_true=y_test, y_pred=predicted_X)\n",
    "print('F1 measure:',score)"
   ]
  },
  {
   "attachments": {},
   "cell_type": "markdown",
   "metadata": {},
   "source": [
    "#### Evaluting results"
   ]
  },
  {
   "cell_type": "code",
   "execution_count": null,
   "metadata": {},
   "outputs": [],
   "source": [
    "##### Здесь сравнение моделей\n"
   ]
  },
  {
   "attachments": {},
   "cell_type": "markdown",
   "metadata": {},
   "source": [
    "#### Collecting Results & Submission"
   ]
  },
  {
   "cell_type": "code",
   "execution_count": null,
   "metadata": {},
   "outputs": [],
   "source": [
    "##### Сборка результирующих csv-шников с результатами проверки гипотез из лучшей модели\n",
    "\n",
    "\n",
    "result_df_example.to_csv('hypothesis_name.csv')"
   ]
  }
 ],
 "metadata": {
  "kernelspec": {
   "display_name": "Python 3",
   "language": "python",
   "name": "python3"
  },
  "language_info": {
   "codemirror_mode": {
    "name": "ipython",
    "version": 3
   },
   "file_extension": ".py",
   "mimetype": "text/x-python",
   "name": "python",
   "nbconvert_exporter": "python",
   "pygments_lexer": "ipython3",
   "version": "3.10.9"
  },
  "orig_nbformat": 4,
  "vscode": {
   "interpreter": {
    "hash": "ddb06d25227ab28213b0084ad2ede9302ee7814147f1e6f5725b34343d1374f8"
   }
  }
 },
 "nbformat": 4,
 "nbformat_minor": 2
}
