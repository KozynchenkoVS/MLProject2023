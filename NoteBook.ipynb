{
 "cells": [
  {
   "attachments": {},
   "cell_type": "markdown",
   "metadata": {},
   "source": [
    "##### Imports"
   ]
  },
  {
   "cell_type": "code",
   "execution_count": 18,
   "metadata": {},
   "outputs": [],
   "source": [
    "# operations with data\n",
    "import pandas as pd\n",
    "from sklearn.model_selection import train_test_split\n",
    "# models\n",
    "from sklearn.neighbors import KNeighborsClassifier\n",
    "from sklearn.svm import SVC\n",
    "from sklearn.tree import DecisionTreeClassifier\n",
    "# ensembles\n",
    "from sklearn.ensemble import BaggingClassifier\n",
    "from sklearn.ensemble import AdaBoostClassifier\n",
    "# visualization\n",
    "import seaborn as sns\n",
    "import matplotlib as plt\n",
    "# preprocessing\n",
    "import numpy as np"
   ]
  },
  {
   "attachments": {},
   "cell_type": "markdown",
   "metadata": {},
   "source": [
    "#### Loading dataset"
   ]
  },
  {
   "cell_type": "code",
   "execution_count": 13,
   "metadata": {},
   "outputs": [
    {
     "data": {
      "text/plain": [
       "(55692, 27)"
      ]
     },
     "execution_count": 13,
     "metadata": {},
     "output_type": "execute_result"
    }
   ],
   "source": [
    "dataset = pd.read_csv('smoking.csv')\n",
    "dataset.shape"
   ]
  },
  {
   "attachments": {},
   "cell_type": "markdown",
   "metadata": {},
   "source": [
    "#### Explotary Analysis"
   ]
  },
  {
   "cell_type": "code",
   "execution_count": null,
   "metadata": {},
   "outputs": [],
   "source": []
  },
  {
   "attachments": {},
   "cell_type": "markdown",
   "metadata": {},
   "source": [
    "#### Creating new hypotheses"
   ]
  },
  {
   "attachments": {},
   "cell_type": "markdown",
   "metadata": {},
   "source": [
    "#### Preprocessing"
   ]
  },
  {
   "cell_type": "code",
   "execution_count": 24,
   "metadata": {},
   "outputs": [
    {
     "name": "stdout",
     "output_type": "stream",
     "text": [
      "<class 'pandas.core.frame.DataFrame'>\n",
      "RangeIndex: 55692 entries, 0 to 55691\n",
      "Data columns (total 25 columns):\n",
      " #   Column               Non-Null Count  Dtype  \n",
      "---  ------               --------------  -----  \n",
      " 0   gender               55692 non-null  int64  \n",
      " 1   age                  55692 non-null  int64  \n",
      " 2   height(cm)           55692 non-null  int64  \n",
      " 3   weight(kg)           55692 non-null  int64  \n",
      " 4   waist(cm)            55692 non-null  float64\n",
      " 5   eyesight(left)       55692 non-null  float64\n",
      " 6   eyesight(right)      55692 non-null  float64\n",
      " 7   hearing(left)        55692 non-null  float64\n",
      " 8   hearing(right)       55692 non-null  float64\n",
      " 9   systolic             55692 non-null  float64\n",
      " 10  relaxation           55692 non-null  float64\n",
      " 11  fasting blood sugar  55692 non-null  float64\n",
      " 12  Cholesterol          55692 non-null  float64\n",
      " 13  triglyceride         55692 non-null  float64\n",
      " 14  HDL                  55692 non-null  float64\n",
      " 15  LDL                  55692 non-null  float64\n",
      " 16  hemoglobin           55692 non-null  float64\n",
      " 17  Urine protein        55692 non-null  float64\n",
      " 18  serum creatinine     55692 non-null  float64\n",
      " 19  AST                  55692 non-null  float64\n",
      " 20  ALT                  55692 non-null  float64\n",
      " 21  Gtp                  55692 non-null  float64\n",
      " 22  oral                 55692 non-null  int64  \n",
      " 23  dental caries        55692 non-null  int64  \n",
      " 24  tartar               55692 non-null  int64  \n",
      "dtypes: float64(18), int64(7)\n",
      "memory usage: 10.6 MB\n"
     ]
    }
   ],
   "source": [
    "dataset.info()"
   ]
  },
  {
   "cell_type": "code",
   "execution_count": 15,
   "metadata": {},
   "outputs": [],
   "source": [
    "dataset['gender'] = np.where(dataset['gender'] == 'F', np.int64(1), np.int64(0))\n",
    "dataset['oral'] = np.where(dataset['oral'] == 'Y', np.int64(1), np.int64(0))\n",
    "dataset['tartar'] = np.where(dataset['tartar'] == 'Y', np.int64(1), np.int64(0))"
   ]
  },
  {
   "attachments": {},
   "cell_type": "markdown",
   "metadata": {},
   "source": [
    "#### Hypertuning "
   ]
  },
  {
   "cell_type": "code",
   "execution_count": 17,
   "metadata": {},
   "outputs": [],
   "source": [
    "splits = [0.2, 0.3, 0.4]\n",
    "coeffs_svc = [1, 5, 10, 15]\n",
    "knn_n = [5, 10, 15, 20, 25]\n",
    "weigths_knn = ['uniform', 'distance']\n",
    "algo_knn = ['ball_tree', 'kd_tree', 'brute', 'auto']\n",
    "p_knn = [1, 2]\n",
    "metric_knn = ['minkowski', 'euclidean']\n",
    "tree_criteria = ['gini', 'entropy']\n",
    "split_tree = ['best', 'random']\n",
    "tree_max_depth = [10, 20, 30, 40, None]\n",
    "estimator_bagging = [5, 10, 15, 20]\n",
    "\n"
   ]
  },
  {
   "cell_type": "code",
   "execution_count": 27,
   "metadata": {},
   "outputs": [],
   "source": [
    "# del dataset['ID']\n",
    "# X = dataset\n",
    "# Y = dataset['smoking']\n",
    "# del X['smoking']"
   ]
  },
  {
   "cell_type": "code",
   "execution_count": 28,
   "metadata": {},
   "outputs": [],
   "source": [
    "bagging_results = []\n",
    "for i in splits:\n",
    "    for j in estimator_bagging:\n",
    "        X_train, X_test, y_train, y_test = train_test_split(X, Y, test_size=i)\n",
    "        tune_model = BaggingClassifier(n_estimators=j)\n",
    "        tune_model.fit(X_train, y_train)\n",
    "        bagging_results.append([i, j, tune_model.score(X_test, y_test)])"
   ]
  },
  {
   "cell_type": "code",
   "execution_count": 29,
   "metadata": {},
   "outputs": [],
   "source": [
    "tree_results = []\n",
    "for i in splits:\n",
    "    for j in tree_criteria:\n",
    "        for k in split_tree:\n",
    "            for z in tree_max_depth:\n",
    "                X_train, X_test, y_train, y_test = train_test_split(X, Y, test_size=i)\n",
    "                tune_model = DecisionTreeClassifier(criterion=j, splitter=k, max_depth=z)\n",
    "                tune_model.fit(X_train, y_train)\n",
    "                tree_results.append([i, j, k, z, tune_model.score(X_test, y_test)])"
   ]
  },
  {
   "cell_type": "code",
   "execution_count": 30,
   "metadata": {},
   "outputs": [],
   "source": [
    "knn_results = []\n",
    "for i in splits:\n",
    "    for j in knn_n:\n",
    "        for k in weigths_knn:\n",
    "            for p in algo_knn:\n",
    "                for z in p_knn:\n",
    "                    for m in metric_knn:\n",
    "                        X_train, X_test, y_train, y_test = train_test_split(X, Y, test_size=i)\n",
    "                        tune_model = KNeighborsClassifier(n_neighbors=j, weights=k, algorithm=p, p=z, metric=m)\n",
    "                        tune_model.fit(X_train, y_train)\n",
    "                        knn_results.append([i, j, k, p, z, m, tune_model.score(X_test, y_test)])\n",
    "        "
   ]
  },
  {
   "cell_type": "code",
   "execution_count": 31,
   "metadata": {},
   "outputs": [],
   "source": [
    "svc_results = []\n",
    "for i in splits:\n",
    "    for j in coeffs_svc:\n",
    "        X_train, X_test, y_train, y_test = train_test_split(X, Y, test_size=i)\n",
    "        tune_model = SVC(C= j)\n",
    "        tune_model.fit(X_train, y_train)\n",
    "        svc_results.append([i, j, tune_model.score(X_test, y_test)])\n",
    "        "
   ]
  },
  {
   "cell_type": "code",
   "execution_count": 34,
   "metadata": {},
   "outputs": [
    {
     "data": {
      "text/plain": [
       "[0.2, 20, 'distance', 'kd_tree', 1, 'minkowski', 0.8114732022623216]"
      ]
     },
     "execution_count": 34,
     "metadata": {},
     "output_type": "execute_result"
    }
   ],
   "source": [
    "knn_results[-1]"
   ]
  },
  {
   "cell_type": "code",
   "execution_count": 38,
   "metadata": {},
   "outputs": [
    {
     "data": {
      "text/plain": [
       "[0.2, 10, 0.7492593590088877]"
      ]
     },
     "execution_count": 38,
     "metadata": {},
     "output_type": "execute_result"
    }
   ],
   "source": [
    "sorted(svc_results, key=lambda x: x[2], reverse=True)[0]"
   ]
  },
  {
   "cell_type": "code",
   "execution_count": 39,
   "metadata": {},
   "outputs": [
    {
     "data": {
      "text/plain": [
       "[0.2, 'entropy', 'best', None, 0.7936978184756261]"
      ]
     },
     "execution_count": 39,
     "metadata": {},
     "output_type": "execute_result"
    }
   ],
   "source": [
    "sorted(tree_results, key=lambda x: x[4], reverse=True)[0]"
   ]
  },
  {
   "cell_type": "code",
   "execution_count": 40,
   "metadata": {},
   "outputs": [
    {
     "data": {
      "text/plain": [
       "[0.2, 15, 0.8191938235030074]"
      ]
     },
     "execution_count": 40,
     "metadata": {},
     "output_type": "execute_result"
    }
   ],
   "source": [
    "sorted(bagging_results, key=lambda x: x[2], reverse=True)[0]"
   ]
  },
  {
   "attachments": {},
   "cell_type": "markdown",
   "metadata": {},
   "source": [
    "#### Models"
   ]
  },
  {
   "cell_type": "code",
   "execution_count": null,
   "metadata": {},
   "outputs": [],
   "source": [
    "X_train, X_test, y_train, y_test = train_test_split(X, Y, test_size=0.2)\n",
    "svc_model = SVC(C=10)\n",
    "knn_model = KNeighborsClassifier(n_neighbors=20, weights='distance', algorithm='kd_tree', p=1, metric='minkowski')\n",
    "tree_model = DecisionTreeClassifier(criterion='entropy', splitter='random', max_depth=None)\n",
    "bagging_model = BaggingClassifier()\n",
    "boost_model = AdaBoostClassifier()"
   ]
  },
  {
   "attachments": {},
   "cell_type": "markdown",
   "metadata": {},
   "source": [
    "#### Verifying hypothesis"
   ]
  },
  {
   "cell_type": "code",
   "execution_count": null,
   "metadata": {},
   "outputs": [],
   "source": []
  },
  {
   "attachments": {},
   "cell_type": "markdown",
   "metadata": {},
   "source": [
    "#### Evaluting results"
   ]
  },
  {
   "cell_type": "code",
   "execution_count": null,
   "metadata": {},
   "outputs": [],
   "source": []
  },
  {
   "attachments": {},
   "cell_type": "markdown",
   "metadata": {},
   "source": [
    "#### Collecting Results & Submission"
   ]
  },
  {
   "cell_type": "code",
   "execution_count": null,
   "metadata": {},
   "outputs": [],
   "source": []
  }
 ],
 "metadata": {
  "kernelspec": {
   "display_name": "Python 3",
   "language": "python",
   "name": "python3"
  },
  "language_info": {
   "codemirror_mode": {
    "name": "ipython",
    "version": 3
   },
   "file_extension": ".py",
   "mimetype": "text/x-python",
   "name": "python",
   "nbconvert_exporter": "python",
   "pygments_lexer": "ipython3",
   "version": "3.9.7"
  },
  "orig_nbformat": 4,
  "vscode": {
   "interpreter": {
    "hash": "c8081ed89012abcd49c7e19f630b494956719821333c1d485dd70c9aacdb1ead"
   }
  }
 },
 "nbformat": 4,
 "nbformat_minor": 2
}
